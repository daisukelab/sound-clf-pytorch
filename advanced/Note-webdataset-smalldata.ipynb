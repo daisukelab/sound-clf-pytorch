{
 "cells": [
  {
   "cell_type": "code",
   "execution_count": 1,
   "id": "361027b5",
   "metadata": {},
   "outputs": [],
   "source": [
    "from dlcliche.notebook import *\n",
    "from dlcliche.torch_utils import *"
   ]
  },
  {
   "cell_type": "markdown",
   "id": "e8d4d37d",
   "metadata": {},
   "source": [
    "## Goal\n",
    "\n",
    "Check if webdataset is useful for downstream datasets which are typically small.\n",
    "\n",
    "### Preparing webdataset shards\n",
    "\n",
    "Used `create_wds_fsd50k.py` to make tar-shards encupslating local 16kHz FSD50K files.\n",
    "Resulted in making four tar files: `fsd50k-eval-16k-{000000..000003}.tar`.\n",
    "\n",
    "### Test result\n",
    "\n",
    "The result show that webdataset is not effective small data regime."
   ]
  },
  {
   "cell_type": "code",
   "execution_count": 24,
   "id": "0eab9f25",
   "metadata": {},
   "outputs": [
    {
     "name": "stdout",
     "output_type": "stream",
     "text": [
      "9.86 s ± 534 ms per loop (mean ± std. dev. of 7 runs, 1 loop each)\n"
     ]
    }
   ],
   "source": [
    "%%timeit\n",
    "\n",
    "import webdataset  as wds\n",
    "import io\n",
    "import librosa\n",
    "\n",
    "url = '/data/A/fsd50k/fsd50k-eval-16k-{000000..000003}.tar'\n",
    "ds = (\n",
    "    wds.WebDataset(url)\n",
    "    .shuffle(1000)\n",
    "    .to_tuple('wav', 'labels')\n",
    ")\n",
    "for i, (wav, labels) in enumerate(ds):\n",
    "    wav = librosa.load(io.BytesIO(wav))\n",
    "    labels = labels.decode()\n",
    "    if i > 100:\n",
    "        break"
   ]
  },
  {
   "cell_type": "code",
   "execution_count": 25,
   "id": "b61de49f",
   "metadata": {},
   "outputs": [
    {
     "name": "stdout",
     "output_type": "stream",
     "text": [
      "9.06 s ± 8.1 ms per loop (mean ± std. dev. of 7 runs, 1 loop each)\n"
     ]
    }
   ],
   "source": [
    "%%timeit\n",
    "\n",
    "import io\n",
    "import librosa\n",
    "\n",
    "def IterativeDataset(root, files, label_set):\n",
    "    root = Path(root)\n",
    "    for fname, labels in zip(files, label_set):\n",
    "        data = librosa.load(root/fname)\n",
    "        labels = labels\n",
    "        yield data, labels\n",
    "\n",
    "df = pd.read_csv('/lab/AR2021/evar/metadata/fsd50k.csv')\n",
    "df = df[df.split == 'test']\n",
    "\n",
    "for i, (binary, labels) in enumerate(IterativeDataset('work/16k/fsd50k', df.file_name.values, df.label.values)):\n",
    "    wav = binary\n",
    "    labels = labels\n",
    "    if i > 100:\n",
    "        break\n",
    "#print(wav, labels)"
   ]
  },
  {
   "cell_type": "markdown",
   "id": "0185a362",
   "metadata": {},
   "source": [
    "## Note: create tar shard files by codes"
   ]
  },
  {
   "cell_type": "code",
   "execution_count": 33,
   "id": "22a05c53",
   "metadata": {},
   "outputs": [
    {
     "data": {
      "text/html": [
       "<div>\n",
       "<style scoped>\n",
       "    .dataframe tbody tr th:only-of-type {\n",
       "        vertical-align: middle;\n",
       "    }\n",
       "\n",
       "    .dataframe tbody tr th {\n",
       "        vertical-align: top;\n",
       "    }\n",
       "\n",
       "    .dataframe thead th {\n",
       "        text-align: right;\n",
       "    }\n",
       "</style>\n",
       "<table border=\"1\" class=\"dataframe\">\n",
       "  <thead>\n",
       "    <tr style=\"text-align: right;\">\n",
       "      <th></th>\n",
       "      <th>fname</th>\n",
       "      <th>labels</th>\n",
       "      <th>mids</th>\n",
       "      <th>split</th>\n",
       "      <th>key</th>\n",
       "    </tr>\n",
       "  </thead>\n",
       "  <tbody>\n",
       "    <tr>\n",
       "      <th>0</th>\n",
       "      <td>FSD50K.dev_audio/64760.wav</td>\n",
       "      <td>Electric_guitar,Guitar,Plucked_string_instrume...</td>\n",
       "      <td>/m/02sgy,/m/0342h,/m/0fx80y,/m/04szw,/m/04rlf</td>\n",
       "      <td>train</td>\n",
       "      <td>train_64760</td>\n",
       "    </tr>\n",
       "    <tr>\n",
       "      <th>1</th>\n",
       "      <td>FSD50K.dev_audio/16399.wav</td>\n",
       "      <td>Electric_guitar,Guitar,Plucked_string_instrume...</td>\n",
       "      <td>/m/02sgy,/m/0342h,/m/0fx80y,/m/04szw,/m/04rlf</td>\n",
       "      <td>train</td>\n",
       "      <td>train_16399</td>\n",
       "    </tr>\n",
       "    <tr>\n",
       "      <th>2</th>\n",
       "      <td>FSD50K.dev_audio/16401.wav</td>\n",
       "      <td>Electric_guitar,Guitar,Plucked_string_instrume...</td>\n",
       "      <td>/m/02sgy,/m/0342h,/m/0fx80y,/m/04szw,/m/04rlf</td>\n",
       "      <td>train</td>\n",
       "      <td>train_16401</td>\n",
       "    </tr>\n",
       "  </tbody>\n",
       "</table>\n",
       "</div>"
      ],
      "text/plain": [
       "                        fname  \\\n",
       "0  FSD50K.dev_audio/64760.wav   \n",
       "1  FSD50K.dev_audio/16399.wav   \n",
       "2  FSD50K.dev_audio/16401.wav   \n",
       "\n",
       "                                              labels  \\\n",
       "0  Electric_guitar,Guitar,Plucked_string_instrume...   \n",
       "1  Electric_guitar,Guitar,Plucked_string_instrume...   \n",
       "2  Electric_guitar,Guitar,Plucked_string_instrume...   \n",
       "\n",
       "                                            mids  split          key  \n",
       "0  /m/02sgy,/m/0342h,/m/0fx80y,/m/04szw,/m/04rlf  train  train_64760  \n",
       "1  /m/02sgy,/m/0342h,/m/0fx80y,/m/04szw,/m/04rlf  train  train_16399  \n",
       "2  /m/02sgy,/m/0342h,/m/0fx80y,/m/04szw,/m/04rlf  train  train_16401  "
      ]
     },
     "execution_count": 33,
     "metadata": {},
     "output_type": "execute_result"
    }
   ],
   "source": [
    "def fsd50k_metadata(FSD50K_root):\n",
    "    FSD = Path(FSD50K_root)\n",
    "    df = pd.read_csv(FSD/f'FSD50K.ground_truth/dev.csv')\n",
    "    df['key'] = df.split + '_' + df.fname.apply(lambda s: str(s))\n",
    "    df['fname'] = df.fname.apply(lambda s: f'FSD50K.dev_audio/{s}.wav')\n",
    "    dftest = pd.read_csv(FSD/f'FSD50K.ground_truth/eval.csv')\n",
    "    dftest['key'] = 'eval_' + dftest.fname.apply(lambda s: str(s))\n",
    "    dftest['split'] = 'eval'\n",
    "    dftest['fname'] = dftest.fname.apply(lambda s: f'FSD50K.eval_audio/{s}.wav')\n",
    "    df = pd.concat([df, dftest], ignore_index=True)\n",
    "    return df\n",
    "\n",
    "\n",
    "df = fsd50k_metadata(FSD50K_root='/data/A/fsd50k/')\n",
    "df[:3]"
   ]
  },
  {
   "cell_type": "code",
   "execution_count": 56,
   "id": "8970bd0b",
   "metadata": {},
   "outputs": [
    {
     "name": "stdout",
     "output_type": "stream",
     "text": [
      "Processing 36796 train samples.\n",
      "/data/A/fsd50k/FSD50K.dev_audio/64760.wav Electric_guitar,Guitar,Plucked_string_instrument,Musical_instrument,Music train_64760\n"
     ]
    },
    {
     "data": {
      "text/plain": [
       "{'__key__': 'train_64760',\n",
       " 'npy': array([-0.00026427, -0.00128246,  0.00068087, ..., -0.00253225,\n",
       "        -0.00244647,  0.        ], dtype=float32),\n",
       " 'labels': 'Electric_guitar,Guitar,Plucked_string_instrument,Musical_instrument,Music'}"
      ]
     },
     "execution_count": 56,
     "metadata": {},
     "output_type": "execute_result"
    }
   ],
   "source": [
    "import librosa\n",
    "\n",
    "\n",
    "def load_resampled_mono_wav(fpath, sr):\n",
    "    y, org_sr = librosa.load('/data/A/fsd50k/FSD50K.dev_audio/382455.wav', sr=None, mono=True)\n",
    "    if org_sr != sr:\n",
    "        y = librosa.resample(y, orig_sr=org_sr, target_sr=sr)\n",
    "    return y\n",
    "\n",
    "\n",
    "def fsd50k_generator(root, split, sr):\n",
    "    root = Path(root)\n",
    "    df = fsd50k_metadata(FSD50K_root=root)\n",
    "    df = df[df.split == split]\n",
    "    print(f'Processing {len(df)} {split} samples.')\n",
    "    for file_name, labels, key in df[['fname', 'labels', 'key']].values:\n",
    "        fpath = root/file_name\n",
    "        print(fpath, labels, key)\n",
    "\n",
    "        sample = {\n",
    "            '__key__': key,\n",
    "            'npy': load_resampled_mono_wav(fpath, sr),\n",
    "            'labels': labels,\n",
    "        }\n",
    "        yield sample\n",
    "\n",
    "gen = fsd50k_generator('/data/A/fsd50k/', 'train', 16000)\n",
    "next(iter(gen))"
   ]
  },
  {
   "cell_type": "code",
   "execution_count": 57,
   "id": "a7fb2d1c",
   "metadata": {},
   "outputs": [
    {
     "name": "stdout",
     "output_type": "stream",
     "text": [
      "# writing /data/A/fsd50k/train-000000.tar 0 0.0 GB 0\n",
      "Processing 36796 train samples.\n",
      "/data/A/fsd50k/FSD50K.dev_audio/64760.wav Electric_guitar,Guitar,Plucked_string_instrument,Musical_instrument,Music train_64760\n",
      "/data/A/fsd50k/FSD50K.dev_audio/16399.wav Electric_guitar,Guitar,Plucked_string_instrument,Musical_instrument,Music train_16399\n",
      "/data/A/fsd50k/FSD50K.dev_audio/16401.wav Electric_guitar,Guitar,Plucked_string_instrument,Musical_instrument,Music train_16401\n",
      "/data/A/fsd50k/FSD50K.dev_audio/16402.wav Electric_guitar,Guitar,Plucked_string_instrument,Musical_instrument,Music train_16402\n",
      "/data/A/fsd50k/FSD50K.dev_audio/16404.wav Electric_guitar,Guitar,Plucked_string_instrument,Musical_instrument,Music train_16404\n",
      "/data/A/fsd50k/FSD50K.dev_audio/64761.wav Electric_guitar,Guitar,Plucked_string_instrument,Musical_instrument,Music train_64761\n",
      "/data/A/fsd50k/FSD50K.dev_audio/268259.wav Electric_guitar,Guitar,Plucked_string_instrument,Musical_instrument,Music train_268259\n",
      "/data/A/fsd50k/FSD50K.dev_audio/64762.wav Electric_guitar,Guitar,Plucked_string_instrument,Musical_instrument,Music train_64762\n",
      "/data/A/fsd50k/FSD50K.dev_audio/40515.wav Electric_guitar,Guitar,Plucked_string_instrument,Musical_instrument,Music train_40515\n",
      "/data/A/fsd50k/FSD50K.dev_audio/40516.wav Electric_guitar,Guitar,Plucked_string_instrument,Musical_instrument,Music train_40516\n",
      "/data/A/fsd50k/FSD50K.dev_audio/40517.wav Electric_guitar,Guitar,Plucked_string_instrument,Musical_instrument,Music train_40517\n",
      "/data/A/fsd50k/FSD50K.dev_audio/64741.wav Electric_guitar,Guitar,Plucked_string_instrument,Musical_instrument,Music train_64741\n",
      "/data/A/fsd50k/FSD50K.dev_audio/40523.wav Electric_guitar,Guitar,Plucked_string_instrument,Musical_instrument,Music train_40523\n",
      "/data/A/fsd50k/FSD50K.dev_audio/64743.wav Electric_guitar,Guitar,Plucked_string_instrument,Musical_instrument,Music train_64743\n",
      "/data/A/fsd50k/FSD50K.dev_audio/64744.wav Electric_guitar,Guitar,Plucked_string_instrument,Musical_instrument,Music train_64744\n",
      "/data/A/fsd50k/FSD50K.dev_audio/40525.wav Electric_guitar,Guitar,Plucked_string_instrument,Musical_instrument,Music train_40525\n",
      "/data/A/fsd50k/FSD50K.dev_audio/64746.wav Electric_guitar,Guitar,Plucked_string_instrument,Musical_instrument,Music train_64746\n",
      "/data/A/fsd50k/FSD50K.dev_audio/5318.wav Electric_guitar,Guitar,Plucked_string_instrument,Musical_instrument,Music train_5318\n",
      "/data/A/fsd50k/FSD50K.dev_audio/4258.wav Electric_guitar,Guitar,Plucked_string_instrument,Musical_instrument,Music train_4258\n",
      "/data/A/fsd50k/FSD50K.dev_audio/4259.wav Electric_guitar,Guitar,Plucked_string_instrument,Musical_instrument,Music train_4259\n",
      "/data/A/fsd50k/FSD50K.dev_audio/4260.wav Electric_guitar,Guitar,Plucked_string_instrument,Musical_instrument,Music train_4260\n",
      "/data/A/fsd50k/FSD50K.dev_audio/4261.wav Electric_guitar,Guitar,Plucked_string_instrument,Musical_instrument,Music train_4261\n",
      "/data/A/fsd50k/FSD50K.dev_audio/4262.wav Electric_guitar,Guitar,Plucked_string_instrument,Musical_instrument,Music train_4262\n",
      "/data/A/fsd50k/FSD50K.dev_audio/4263.wav Electric_guitar,Guitar,Plucked_string_instrument,Musical_instrument,Music train_4263\n",
      "/data/A/fsd50k/FSD50K.dev_audio/4264.wav Electric_guitar,Guitar,Plucked_string_instrument,Musical_instrument,Music train_4264\n",
      "/data/A/fsd50k/FSD50K.dev_audio/4265.wav Electric_guitar,Guitar,Plucked_string_instrument,Musical_instrument,Music train_4265\n",
      "/data/A/fsd50k/FSD50K.dev_audio/4266.wav Electric_guitar,Guitar,Plucked_string_instrument,Musical_instrument,Music train_4266\n",
      "/data/A/fsd50k/FSD50K.dev_audio/4267.wav Electric_guitar,Guitar,Plucked_string_instrument,Musical_instrument,Music train_4267\n",
      "/data/A/fsd50k/FSD50K.dev_audio/4268.wav Electric_guitar,Guitar,Plucked_string_instrument,Musical_instrument,Music train_4268\n",
      "/data/A/fsd50k/FSD50K.dev_audio/4269.wav Electric_guitar,Guitar,Plucked_string_instrument,Musical_instrument,Music train_4269\n",
      "/data/A/fsd50k/FSD50K.dev_audio/4270.wav Electric_guitar,Guitar,Plucked_string_instrument,Musical_instrument,Music train_4270\n",
      "/data/A/fsd50k/FSD50K.dev_audio/4272.wav Electric_guitar,Guitar,Plucked_string_instrument,Musical_instrument,Music train_4272\n",
      "/data/A/fsd50k/FSD50K.dev_audio/64757.wav Electric_guitar,Guitar,Plucked_string_instrument,Musical_instrument,Music train_64757\n",
      "/data/A/fsd50k/FSD50K.dev_audio/4276.wav Electric_guitar,Guitar,Plucked_string_instrument,Musical_instrument,Music train_4276\n",
      "/data/A/fsd50k/FSD50K.dev_audio/4277.wav Electric_guitar,Guitar,Plucked_string_instrument,Musical_instrument,Music train_4277\n",
      "/data/A/fsd50k/FSD50K.dev_audio/4278.wav Electric_guitar,Guitar,Plucked_string_instrument,Musical_instrument,Music train_4278\n",
      "/data/A/fsd50k/FSD50K.dev_audio/4279.wav Electric_guitar,Guitar,Plucked_string_instrument,Musical_instrument,Music train_4279\n",
      "/data/A/fsd50k/FSD50K.dev_audio/4280.wav Electric_guitar,Guitar,Plucked_string_instrument,Musical_instrument,Music train_4280\n",
      "/data/A/fsd50k/FSD50K.dev_audio/4281.wav Electric_guitar,Guitar,Plucked_string_instrument,Musical_instrument,Music train_4281\n",
      "/data/A/fsd50k/FSD50K.dev_audio/4283.wav Electric_guitar,Guitar,Plucked_string_instrument,Musical_instrument,Music train_4283\n",
      "/data/A/fsd50k/FSD50K.dev_audio/4284.wav Electric_guitar,Guitar,Plucked_string_instrument,Musical_instrument,Music train_4284\n",
      "/data/A/fsd50k/FSD50K.dev_audio/4285.wav Electric_guitar,Guitar,Plucked_string_instrument,Musical_instrument,Music train_4285\n",
      "/data/A/fsd50k/FSD50K.dev_audio/4286.wav Electric_guitar,Guitar,Plucked_string_instrument,Musical_instrument,Music train_4286\n",
      "/data/A/fsd50k/FSD50K.dev_audio/4287.wav Electric_guitar,Guitar,Plucked_string_instrument,Musical_instrument,Music train_4287\n",
      "/data/A/fsd50k/FSD50K.dev_audio/4288.wav Electric_guitar,Guitar,Plucked_string_instrument,Musical_instrument,Music train_4288\n",
      "/data/A/fsd50k/FSD50K.dev_audio/4289.wav Electric_guitar,Guitar,Plucked_string_instrument,Musical_instrument,Music train_4289\n",
      "/data/A/fsd50k/FSD50K.dev_audio/5314.wav Electric_guitar,Guitar,Plucked_string_instrument,Musical_instrument,Music train_5314\n",
      "/data/A/fsd50k/FSD50K.dev_audio/4290.wav Electric_guitar,Guitar,Plucked_string_instrument,Musical_instrument,Music train_4290\n",
      "/data/A/fsd50k/FSD50K.dev_audio/4291.wav Electric_guitar,Guitar,Plucked_string_instrument,Musical_instrument,Music train_4291\n",
      "/data/A/fsd50k/FSD50K.dev_audio/5310.wav Electric_guitar,Guitar,Plucked_string_instrument,Musical_instrument,Music train_5310\n",
      "/data/A/fsd50k/FSD50K.dev_audio/64703.wav Electric_guitar,Guitar,Plucked_string_instrument,Musical_instrument,Music train_64703\n",
      "/data/A/fsd50k/FSD50K.dev_audio/5312.wav Electric_guitar,Bass_guitar,Guitar,Plucked_string_instrument,Musical_instrument,Music train_5312\n",
      "/data/A/fsd50k/FSD50K.dev_audio/64704.wav Electric_guitar,Guitar,Plucked_string_instrument,Musical_instrument,Music train_64704\n",
      "/data/A/fsd50k/FSD50K.dev_audio/64706.wav Electric_guitar,Guitar,Plucked_string_instrument,Musical_instrument,Music train_64706\n",
      "/data/A/fsd50k/FSD50K.dev_audio/64707.wav Electric_guitar,Guitar,Plucked_string_instrument,Musical_instrument,Music train_64707\n",
      "/data/A/fsd50k/FSD50K.dev_audio/64708.wav Electric_guitar,Guitar,Plucked_string_instrument,Musical_instrument,Music train_64708\n",
      "/data/A/fsd50k/FSD50K.dev_audio/5315.wav Electric_guitar,Guitar,Plucked_string_instrument,Musical_instrument,Music train_5315\n",
      "/data/A/fsd50k/FSD50K.dev_audio/5317.wav Electric_guitar,Guitar,Plucked_string_instrument,Musical_instrument,Music train_5317\n",
      "/data/A/fsd50k/FSD50K.dev_audio/64711.wav Electric_guitar,Guitar,Plucked_string_instrument,Musical_instrument,Music train_64711\n",
      "/data/A/fsd50k/FSD50K.dev_audio/64712.wav Electric_guitar,Guitar,Plucked_string_instrument,Musical_instrument,Music train_64712\n",
      "/data/A/fsd50k/FSD50K.dev_audio/64714.wav Electric_guitar,Guitar,Plucked_string_instrument,Musical_instrument,Music train_64714\n",
      "/data/A/fsd50k/FSD50K.dev_audio/64715.wav Electric_guitar,Guitar,Plucked_string_instrument,Musical_instrument,Music train_64715\n",
      "/data/A/fsd50k/FSD50K.dev_audio/64717.wav Electric_guitar,Guitar,Plucked_string_instrument,Musical_instrument,Music train_64717\n",
      "/data/A/fsd50k/FSD50K.dev_audio/64718.wav Electric_guitar,Guitar,Plucked_string_instrument,Musical_instrument,Music train_64718\n",
      "/data/A/fsd50k/FSD50K.dev_audio/64720.wav Electric_guitar,Guitar,Plucked_string_instrument,Musical_instrument,Music train_64720\n"
     ]
    },
    {
     "name": "stdout",
     "output_type": "stream",
     "text": [
      "/data/A/fsd50k/FSD50K.dev_audio/64721.wav Electric_guitar,Guitar,Plucked_string_instrument,Musical_instrument,Music train_64721\n",
      "/data/A/fsd50k/FSD50K.dev_audio/64722.wav Electric_guitar,Guitar,Plucked_string_instrument,Musical_instrument,Music train_64722\n"
     ]
    },
    {
     "ename": "KeyboardInterrupt",
     "evalue": "",
     "output_type": "error",
     "traceback": [
      "\u001b[0;31m---------------------------------------------------------------------------\u001b[0m",
      "\u001b[0;31mKeyboardInterrupt\u001b[0m                         Traceback (most recent call last)",
      "\u001b[0;32m/tmp/ipykernel_2207172/328821770.py\u001b[0m in \u001b[0;36m<module>\u001b[0;34m\u001b[0m\n\u001b[1;32m     10\u001b[0m \u001b[0;34m\u001b[0m\u001b[0m\n\u001b[1;32m     11\u001b[0m \u001b[0;32mwith\u001b[0m \u001b[0mwds\u001b[0m\u001b[0;34m.\u001b[0m\u001b[0mShardWriter\u001b[0m\u001b[0;34m(\u001b[0m\u001b[0moutput_name\u001b[0m\u001b[0;34m,\u001b[0m \u001b[0mmax_count\u001b[0m\u001b[0;34m)\u001b[0m \u001b[0;32mas\u001b[0m \u001b[0msink\u001b[0m\u001b[0;34m:\u001b[0m\u001b[0;34m\u001b[0m\u001b[0;34m\u001b[0m\u001b[0m\n\u001b[0;32m---> 12\u001b[0;31m     \u001b[0;32mfor\u001b[0m \u001b[0msample\u001b[0m \u001b[0;32min\u001b[0m \u001b[0mislice\u001b[0m\u001b[0;34m(\u001b[0m\u001b[0mfsd50k_generator\u001b[0m\u001b[0;34m(\u001b[0m\u001b[0msource_dir\u001b[0m\u001b[0;34m,\u001b[0m \u001b[0msplit\u001b[0m\u001b[0;34m,\u001b[0m \u001b[0msr\u001b[0m\u001b[0;34m)\u001b[0m\u001b[0;34m,\u001b[0m \u001b[0;36m0\u001b[0m\u001b[0;34m,\u001b[0m \u001b[0;36m100\u001b[0m\u001b[0;34m)\u001b[0m\u001b[0;34m:\u001b[0m\u001b[0;34m\u001b[0m\u001b[0;34m\u001b[0m\u001b[0m\n\u001b[0m\u001b[1;32m     13\u001b[0m         \u001b[0msink\u001b[0m\u001b[0;34m.\u001b[0m\u001b[0mwrite\u001b[0m\u001b[0;34m(\u001b[0m\u001b[0msample\u001b[0m\u001b[0;34m)\u001b[0m\u001b[0;34m\u001b[0m\u001b[0;34m\u001b[0m\u001b[0m\n",
      "\u001b[0;32m/tmp/ipykernel_2207172/1443749655.py\u001b[0m in \u001b[0;36mfsd50k_generator\u001b[0;34m(root, split, sr)\u001b[0m\n\u001b[1;32m     20\u001b[0m         sample = {\n\u001b[1;32m     21\u001b[0m             \u001b[0;34m'__key__'\u001b[0m\u001b[0;34m:\u001b[0m \u001b[0mkey\u001b[0m\u001b[0;34m,\u001b[0m\u001b[0;34m\u001b[0m\u001b[0;34m\u001b[0m\u001b[0m\n\u001b[0;32m---> 22\u001b[0;31m             \u001b[0;34m'npy'\u001b[0m\u001b[0;34m:\u001b[0m \u001b[0mload_resampled_mono_wav\u001b[0m\u001b[0;34m(\u001b[0m\u001b[0mfpath\u001b[0m\u001b[0;34m,\u001b[0m \u001b[0msr\u001b[0m\u001b[0;34m)\u001b[0m\u001b[0;34m,\u001b[0m\u001b[0;34m\u001b[0m\u001b[0;34m\u001b[0m\u001b[0m\n\u001b[0m\u001b[1;32m     23\u001b[0m             \u001b[0;34m'labels'\u001b[0m\u001b[0;34m:\u001b[0m \u001b[0mlabels\u001b[0m\u001b[0;34m,\u001b[0m\u001b[0;34m\u001b[0m\u001b[0;34m\u001b[0m\u001b[0m\n\u001b[1;32m     24\u001b[0m         }\n",
      "\u001b[0;32m/tmp/ipykernel_2207172/1443749655.py\u001b[0m in \u001b[0;36mload_resampled_mono_wav\u001b[0;34m(fpath, sr)\u001b[0m\n\u001b[1;32m      5\u001b[0m     \u001b[0my\u001b[0m\u001b[0;34m,\u001b[0m \u001b[0morg_sr\u001b[0m \u001b[0;34m=\u001b[0m \u001b[0mlibrosa\u001b[0m\u001b[0;34m.\u001b[0m\u001b[0mload\u001b[0m\u001b[0;34m(\u001b[0m\u001b[0;34m'/data/A/fsd50k/FSD50K.dev_audio/382455.wav'\u001b[0m\u001b[0;34m,\u001b[0m \u001b[0msr\u001b[0m\u001b[0;34m=\u001b[0m\u001b[0;32mNone\u001b[0m\u001b[0;34m,\u001b[0m \u001b[0mmono\u001b[0m\u001b[0;34m=\u001b[0m\u001b[0;32mTrue\u001b[0m\u001b[0;34m)\u001b[0m\u001b[0;34m\u001b[0m\u001b[0;34m\u001b[0m\u001b[0m\n\u001b[1;32m      6\u001b[0m     \u001b[0;32mif\u001b[0m \u001b[0morg_sr\u001b[0m \u001b[0;34m!=\u001b[0m \u001b[0msr\u001b[0m\u001b[0;34m:\u001b[0m\u001b[0;34m\u001b[0m\u001b[0;34m\u001b[0m\u001b[0m\n\u001b[0;32m----> 7\u001b[0;31m         \u001b[0my\u001b[0m \u001b[0;34m=\u001b[0m \u001b[0mlibrosa\u001b[0m\u001b[0;34m.\u001b[0m\u001b[0mresample\u001b[0m\u001b[0;34m(\u001b[0m\u001b[0my\u001b[0m\u001b[0;34m,\u001b[0m \u001b[0morig_sr\u001b[0m\u001b[0;34m=\u001b[0m\u001b[0morg_sr\u001b[0m\u001b[0;34m,\u001b[0m \u001b[0mtarget_sr\u001b[0m\u001b[0;34m=\u001b[0m\u001b[0msr\u001b[0m\u001b[0;34m)\u001b[0m\u001b[0;34m\u001b[0m\u001b[0;34m\u001b[0m\u001b[0m\n\u001b[0m\u001b[1;32m      8\u001b[0m     \u001b[0;32mreturn\u001b[0m \u001b[0my\u001b[0m\u001b[0;34m\u001b[0m\u001b[0;34m\u001b[0m\u001b[0m\n\u001b[1;32m      9\u001b[0m \u001b[0;34m\u001b[0m\u001b[0m\n",
      "\u001b[0;32m~/anaconda3/lib/python3.9/site-packages/librosa/core/audio.py\u001b[0m in \u001b[0;36mresample\u001b[0;34m(y, orig_sr, target_sr, res_type, fix, scale, **kwargs)\u001b[0m\n\u001b[1;32m    602\u001b[0m         \u001b[0my_hat\u001b[0m \u001b[0;34m=\u001b[0m \u001b[0msoxr\u001b[0m\u001b[0;34m.\u001b[0m\u001b[0mresample\u001b[0m\u001b[0;34m(\u001b[0m\u001b[0my\u001b[0m\u001b[0;34m.\u001b[0m\u001b[0mT\u001b[0m\u001b[0;34m,\u001b[0m \u001b[0morig_sr\u001b[0m\u001b[0;34m,\u001b[0m \u001b[0mtarget_sr\u001b[0m\u001b[0;34m,\u001b[0m \u001b[0mquality\u001b[0m\u001b[0;34m=\u001b[0m\u001b[0mres_type\u001b[0m\u001b[0;34m)\u001b[0m\u001b[0;34m.\u001b[0m\u001b[0mT\u001b[0m\u001b[0;34m\u001b[0m\u001b[0;34m\u001b[0m\u001b[0m\n\u001b[1;32m    603\u001b[0m     \u001b[0;32melse\u001b[0m\u001b[0;34m:\u001b[0m\u001b[0;34m\u001b[0m\u001b[0;34m\u001b[0m\u001b[0m\n\u001b[0;32m--> 604\u001b[0;31m         \u001b[0my_hat\u001b[0m \u001b[0;34m=\u001b[0m \u001b[0mresampy\u001b[0m\u001b[0;34m.\u001b[0m\u001b[0mresample\u001b[0m\u001b[0;34m(\u001b[0m\u001b[0my\u001b[0m\u001b[0;34m,\u001b[0m \u001b[0morig_sr\u001b[0m\u001b[0;34m,\u001b[0m \u001b[0mtarget_sr\u001b[0m\u001b[0;34m,\u001b[0m \u001b[0mfilter\u001b[0m\u001b[0;34m=\u001b[0m\u001b[0mres_type\u001b[0m\u001b[0;34m,\u001b[0m \u001b[0maxis\u001b[0m\u001b[0;34m=\u001b[0m\u001b[0;34m-\u001b[0m\u001b[0;36m1\u001b[0m\u001b[0;34m)\u001b[0m\u001b[0;34m\u001b[0m\u001b[0;34m\u001b[0m\u001b[0m\n\u001b[0m\u001b[1;32m    605\u001b[0m \u001b[0;34m\u001b[0m\u001b[0m\n\u001b[1;32m    606\u001b[0m     \u001b[0;32mif\u001b[0m \u001b[0mfix\u001b[0m\u001b[0;34m:\u001b[0m\u001b[0;34m\u001b[0m\u001b[0;34m\u001b[0m\u001b[0m\n",
      "\u001b[0;32m~/anaconda3/lib/python3.9/site-packages/resampy/core.py\u001b[0m in \u001b[0;36mresample\u001b[0;34m(x, sr_orig, sr_new, axis, filter, **kwargs)\u001b[0m\n\u001b[1;32m    118\u001b[0m     \u001b[0mx_2d\u001b[0m \u001b[0;34m=\u001b[0m \u001b[0mx\u001b[0m\u001b[0;34m.\u001b[0m\u001b[0mswapaxes\u001b[0m\u001b[0;34m(\u001b[0m\u001b[0;36m0\u001b[0m\u001b[0;34m,\u001b[0m \u001b[0maxis\u001b[0m\u001b[0;34m)\u001b[0m\u001b[0;34m.\u001b[0m\u001b[0mreshape\u001b[0m\u001b[0;34m(\u001b[0m\u001b[0;34m(\u001b[0m\u001b[0mx\u001b[0m\u001b[0;34m.\u001b[0m\u001b[0mshape\u001b[0m\u001b[0;34m[\u001b[0m\u001b[0maxis\u001b[0m\u001b[0;34m]\u001b[0m\u001b[0;34m,\u001b[0m \u001b[0;34m-\u001b[0m\u001b[0;36m1\u001b[0m\u001b[0;34m)\u001b[0m\u001b[0;34m)\u001b[0m\u001b[0;34m\u001b[0m\u001b[0;34m\u001b[0m\u001b[0m\n\u001b[1;32m    119\u001b[0m     \u001b[0my_2d\u001b[0m \u001b[0;34m=\u001b[0m \u001b[0my\u001b[0m\u001b[0;34m.\u001b[0m\u001b[0mswapaxes\u001b[0m\u001b[0;34m(\u001b[0m\u001b[0;36m0\u001b[0m\u001b[0;34m,\u001b[0m \u001b[0maxis\u001b[0m\u001b[0;34m)\u001b[0m\u001b[0;34m.\u001b[0m\u001b[0mreshape\u001b[0m\u001b[0;34m(\u001b[0m\u001b[0;34m(\u001b[0m\u001b[0my\u001b[0m\u001b[0;34m.\u001b[0m\u001b[0mshape\u001b[0m\u001b[0;34m[\u001b[0m\u001b[0maxis\u001b[0m\u001b[0;34m]\u001b[0m\u001b[0;34m,\u001b[0m \u001b[0;34m-\u001b[0m\u001b[0;36m1\u001b[0m\u001b[0;34m)\u001b[0m\u001b[0;34m)\u001b[0m\u001b[0;34m\u001b[0m\u001b[0;34m\u001b[0m\u001b[0m\n\u001b[0;32m--> 120\u001b[0;31m     \u001b[0mresample_f\u001b[0m\u001b[0;34m(\u001b[0m\u001b[0mx_2d\u001b[0m\u001b[0;34m,\u001b[0m \u001b[0my_2d\u001b[0m\u001b[0;34m,\u001b[0m \u001b[0msample_ratio\u001b[0m\u001b[0;34m,\u001b[0m \u001b[0minterp_win\u001b[0m\u001b[0;34m,\u001b[0m \u001b[0minterp_delta\u001b[0m\u001b[0;34m,\u001b[0m \u001b[0mprecision\u001b[0m\u001b[0;34m)\u001b[0m\u001b[0;34m\u001b[0m\u001b[0;34m\u001b[0m\u001b[0m\n\u001b[0m\u001b[1;32m    121\u001b[0m \u001b[0;34m\u001b[0m\u001b[0m\n\u001b[1;32m    122\u001b[0m     \u001b[0;32mreturn\u001b[0m \u001b[0my\u001b[0m\u001b[0;34m\u001b[0m\u001b[0;34m\u001b[0m\u001b[0m\n",
      "\u001b[0;31mKeyboardInterrupt\u001b[0m: "
     ]
    }
   ],
   "source": [
    "import webdataset as wds\n",
    "from itertools import islice\n",
    "\n",
    "\n",
    "source_dir = '/data/A/fsd50k/'\n",
    "split = 'train'\n",
    "sr = 16000\n",
    "output_name = f'/data/A/fsd50k/{split}-%06d.tar'\n",
    "max_count = 10000\n",
    "\n",
    "with wds.ShardWriter(output_name, max_count) as sink:\n",
    "    for sample in islice(fsd50k_generator(source_dir, split, sr), 0, 100):\n",
    "        sink.write(sample)"
   ]
  },
  {
   "cell_type": "markdown",
   "id": "bfc6032c",
   "metadata": {},
   "source": [
    "## Note: creating dataset tar archives with command-line\n",
    "\n",
    "\n",
    "### Install go and tarp commands\n",
    "\n",
    "https://github.com/webdataset/tarp\n",
    "\n",
    "- `sudo apt install golang-go`\n",
    "- `go get -v github.com/tmbdev/tarp/tarp`\n",
    "\n",
    "### Create tar archive\n",
    "\n",
    "- `tar --sort=name -cf your_archive.tar your_folders`\n",
    "- `find your_folder - type f -print| sort | tar -cf your_archive.tar - T -'\n",
    "\n",
    "### Shuffle and split\n",
    "\n",
    "- `tar --sorted -cf - your_folders | tarp"
   ]
  }
 ],
 "metadata": {
  "kernelspec": {
   "display_name": "base",
   "language": "python",
   "name": "base"
  },
  "language_info": {
   "codemirror_mode": {
    "name": "ipython",
    "version": 3
   },
   "file_extension": ".py",
   "mimetype": "text/x-python",
   "name": "python",
   "nbconvert_exporter": "python",
   "pygments_lexer": "ipython3",
   "version": "3.9.7"
  }
 },
 "nbformat": 4,
 "nbformat_minor": 5
}
